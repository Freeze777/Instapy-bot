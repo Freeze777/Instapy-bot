{
 "cells": [
  {
   "cell_type": "code",
   "execution_count": 1,
   "metadata": {},
   "outputs": [],
   "source": [
    "import re\n",
    "import webbrowser\n",
    "\n",
    "\n",
    "links = \"\"\"\n",
    "1) https://www.instagram.com/p/B60kcEwl_iJ\n",
    "2) https://www.instagram.com/p/B60k83mJ7lB\n",
    "3) https://www.instagram.com/p/B6wQ2cznJ1E\n",
    "4) https://www.instagram.com/p/B60nn6jixrZ\n",
    "5) https://www.instagram.com/p/B60l21XFOw_\n",
    "6) https://www.instagram.com/p/B60lEMrJGeG\n",
    "7) https://www.instagram.com/p/B60nejIgJtX\n",
    "8) https://www.instagram.com/p/B6xhG2ijuyh\n",
    "9) https://www.instagram.com/p/B60kxT6g8LP\n",
    "10) https://www.instagram.com/p/B60FEI_IAfG\n",
    "11) https://www.instagram.com/p/B2MgS5yIeYM\n",
    "12) https://www.instagram.com/p/B60lTCLpHsK\n",
    "13) https://www.instagram.com/p/B6w99CNHgaK\n",
    "14) https://www.instagram.com/p/B6vZ_mMA__H\n",
    "15) https://www.instagram.com/p/B60pXzSAc3i\n",
    "16) https://www.instagram.com/p/B60k_B3n3tL\n",
    "17) https://www.instagram.com/p/B6x4l_cpR7v\n",
    "18) https://www.instagram.com/p/B60gLWTHFze\n",
    "19) https://www.instagram.com/p/B60qLrWhHAr\n",
    "20) https://www.instagram.com/p/B60q5wFDLV5\n",
    "21) https://www.instagram.com/p/B60pXyWoxZ7\n",
    "22) https://www.instagram.com/p/B60rbA9Hbjp\n",
    "23) https://www.instagram.com/p/B5x75SXIOAV\n",
    "24) https://www.instagram.com/p/B60ry4kgBg9\n",
    "25) https://www.instagram.com/p/B60royoAZ1w\n",
    "26) https://www.instagram.com/p/B6t1BMIC5RH\n",
    "27) https://www.instagram.com/p/B6x6AiSI5Jf\n",
    "28) https://www.instagram.com/p/B6zInblhDXz\n",
    "29) https://www.instagram.com/p/B60ok26gywk\n",
    "30) https://www.instagram.com/p/B6vxCF5g8wt\n",
    "31) https://www.instagram.com/p/B6xD1D0HYNQ\n",
    "32) https://www.instagram.com/p/B60sw_HAQ_Q\n",
    "33) https://www.instagram.com/p/B6xzoWoo0Za\n",
    "34) https://www.instagram.com/p/B60KAhdleWE\n",
    "35) https://www.instagram.com/p/B6uvP4Shcxu\n",
    "36) https://www.instagram.com/p/B6uApo-lDSl\n",
    "37) https://www.instagram.com/p/B6x7izppf3G\n",
    "38) https://www.instagram.com/p/B60oLh7hNPn\n",
    "39) https://www.instagram.com/p/B6y6atDAtFX\n",
    "40) https://www.instagram.com/p/B60qQ9Rl0wS\n",
    "41) https://www.instagram.com/p/B6v23rzjWJs\n",
    "42) https://www.instagram.com/p/B6zer6FDRf_\n",
    "43) https://www.instagram.com/p/B60rRGjIda4\n",
    "44) https://www.instagram.com/p/B60sVEklkWR\n",
    "45) https://www.instagram.com/p/B60GlCeFaO4\n",
    "46) https://www.instagram.com/p/B60uj7vBo4q\n",
    "47) https://www.instagram.com/p/B60ofCTHYZQ\n",
    "48) https://www.instagram.com/p/B6suNxclej6\n",
    "49) https://www.instagram.com/p/B6v_kJZFpjn\n",
    "50) https://www.instagram.com/p/B60vhTNBiBL\n",
    "\n",
    "\"\"\"\n",
    "\n",
    "links = links.strip().splitlines()\n",
    "\n",
    "for link in links :\n",
    "    url = re.search(\"(?P<url>https?://[^\\s]+)\", link).group(\"url\")\n",
    "    webbrowser.open(url)"
   ]
  },
  {
   "cell_type": "code",
   "execution_count": 49,
   "metadata": {},
   "outputs": [
    {
     "data": {
      "text/plain": [
       "'\\nDx30 https://www.instagram.com/p/B5MoAOKFbx5/\\n'"
      ]
     },
     "execution_count": 49,
     "metadata": {},
     "output_type": "execute_result"
    }
   ],
   "source": [
    "'''\n",
    "\n",
    "Dx30 @freeze_francis \n",
    "https://www.instagram.com/p/B5sRLR2loUq/\n",
    "\n",
    "'''"
   ]
  },
  {
   "cell_type": "code",
   "execution_count": 43,
   "metadata": {},
   "outputs": [],
   "source": []
  },
  {
   "cell_type": "code",
   "execution_count": 44,
   "metadata": {},
   "outputs": [],
   "source": []
  },
  {
   "cell_type": "code",
   "execution_count": null,
   "metadata": {},
   "outputs": [],
   "source": []
  }
 ],
 "metadata": {
  "kernelspec": {
   "display_name": "Python 2",
   "language": "python",
   "name": "python2"
  },
  "language_info": {
   "codemirror_mode": {
    "name": "ipython",
    "version": 2
   },
   "file_extension": ".py",
   "mimetype": "text/x-python",
   "name": "python",
   "nbconvert_exporter": "python",
   "pygments_lexer": "ipython2",
   "version": "2.7.16"
  }
 },
 "nbformat": 4,
 "nbformat_minor": 2
}
